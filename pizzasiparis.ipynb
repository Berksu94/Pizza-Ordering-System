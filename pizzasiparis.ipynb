{
  "nbformat": 4,
  "nbformat_minor": 0,
  "metadata": {
    "colab": {
      "provenance": []
    },
    "kernelspec": {
      "name": "python3",
      "display_name": "Python 3"
    },
    "language_info": {
      "name": "python"
    }
  },
  "cells": [
    {
      "cell_type": "markdown",
      "source": [
        "## **Pizza Sipariş Sistemi**\n",
        "Global AI Hub ve Akbank iş birliği ile düzenlenen Python Bootcamp bitirme projesi.\n",
        "\n",
        "*Berksu Ertuğrul*\n"
      ],
      "metadata": {
        "id": "ayBGNU-7jzry"
      }
    },
    {
      "cell_type": "markdown",
      "source": [
        "Gerekli kitaplıkları yükleme"
      ],
      "metadata": {
        "id": "bd6JpeyHkwWF"
      }
    },
    {
      "cell_type": "code",
      "execution_count": 1,
      "metadata": {
        "id": "RhlYMeBkkBea"
      },
      "outputs": [],
      "source": [
        "import csv\n",
        "import datetime\n"
      ]
    },
    {
      "cell_type": "markdown",
      "source": [
        "Menüyü oluşturma"
      ],
      "metadata": {
        "id": "yRP8sQ3NlDzf"
      }
    },
    {
      "cell_type": "code",
      "source": [
        "with open('Menu.txt', 'w') as file:\n",
        "    file.write('- Lütfen Bir Pizza Tabanı Seçiniz:\\n1: Klasik\\n2: Margarita\\n3: TürkPizza\\n4: Sade Pizza\\n')\n",
        "    file.write('- Lütfen Sos Seçin:\\n11: Zeytin\\n12: Mantar\\n13: Keçi Peyniri\\n14: Et\\n15: Soğan\\n16: Mısır\\n')\n",
        "    file.write(' Teşekkür ederiz!')"
      ],
      "metadata": {
        "id": "PPdtQtUslD_7"
      },
      "execution_count": 2,
      "outputs": []
    },
    {
      "cell_type": "markdown",
      "source": [
        "Pizzanın kısa bir açıklaması (üst sınıf \"pizza\")"
      ],
      "metadata": {
        "id": "uxY5LYXqlES8"
      }
    },
    {
      "cell_type": "code",
      "source": [
        "class Pizza:\n",
        "    def __init__(self, description, cost):\n",
        "        self.__description = description\n",
        "        self.__cost = cost\n",
        "\n",
        "    def get_description(self):\n",
        "        return self.__description\n",
        "\n",
        "    def get_cost(self):\n",
        "        return self.__cost"
      ],
      "metadata": {
        "id": "MYcngcOFlEhz"
      },
      "execution_count": 3,
      "outputs": []
    },
    {
      "cell_type": "markdown",
      "source": [
        "Her pizza çeşidi için sınıflar oluşturma (alt sınıf \"pizza\")"
      ],
      "metadata": {
        "id": "cfEJ1soM-eQO"
      }
    },
    {
      "cell_type": "code",
      "execution_count": 12,
      "metadata": {
        "id": "Lisc1uKljyvi"
      },
      "outputs": [],
      "source": [
        "class Klasik(Pizza):\n",
        "    def __init__(self):\n",
        "        description = \"Kalın hamur, ince kenar, sucuk, kaşar\"\n",
        "        cost = 15.99\n",
        "        super().__init__(description, cost) #Burada Pizza üst sınıfındaki açıklama ve fiyat methodunu super() ile çağırmış olduk\n",
        "\n",
        "class Margarita(Pizza):\n",
        "    def __init__(self):\n",
        "        description = \"İnce hamur, ince kenar, domates sosu, mozarella peyniri\"\n",
        "        cost = 19.99\n",
        "        super().__init__(description, cost) \n",
        "\n",
        "class Turk(Pizza):\n",
        "    def __init__(self):\n",
        "        description = \"Kalın hamur, ince kenar, sucuk, kaşar, mantar, sosis\"\n",
        "        cost = 23.99\n",
        "        super().__init__(description, cost) \n",
        "\n",
        "class Sade(Pizza):\n",
        "    def __init__(self):\n",
        "        description = \"Kalın hamur, kalın kenar, kaşar\"\n",
        "        cost = 12.99\n",
        "        super().__init__(description, cost)"
      ]
    },
    {
      "cell_type": "markdown",
      "source": [
        "Sos-malzeme seçimi için sınıflar oluşturma (üst sınıf \"Decorator\")"
      ],
      "metadata": {
        "id": "vpgxAdbW-hpr"
      }
    },
    {
      "cell_type": "code",
      "source": [
        "class Malzeme(Pizza):\n",
        "    def __init__(self, pizza):\n",
        "        self._pizza = pizza\n",
        "\n",
        "    def get_description(self):\n",
        "        return self._pizza.get_description()\n",
        "\n",
        "    def get_cost(self):\n",
        "        return self._pizza.get_cost()\n",
        "\n",
        "\n",
        "class Zeytin(Malzeme):\n",
        "    def __init__(self, pizza):\n",
        "        cost = 2.50\n",
        "        description = \"Zeytin\"\n",
        "        super().__init__(pizza)\n",
        "        self._description = pizza.get_description() + \", \" + description\n",
        "        self._cost = pizza.get_cost() + cost\n",
        "\n",
        "    def get_description(self):\n",
        "        return self._description\n",
        "\n",
        "    def get_cost(self):\n",
        "        return self._cost\n",
        "\n",
        "\n",
        "class Mantar(Malzeme):\n",
        "    def __init__(self, pizza):\n",
        "        cost = 3.00\n",
        "        description = \"Mantar\"\n",
        "        super().__init__(pizza)\n",
        "        self._description = pizza.get_description() + \", \" + description\n",
        "        self._cost = pizza.get_cost() + cost\n",
        "\n",
        "    def get_description(self):\n",
        "        return self._description\n",
        "\n",
        "    def get_cost(self):\n",
        "        return self._cost\n",
        "\n",
        "\n",
        "class Keci_Peyniri(Malzeme):\n",
        "    def __init__(self, pizza):\n",
        "        cost = 4.00\n",
        "        description = \"Keçi Peyniri\"\n",
        "        super().__init__(pizza)\n",
        "        self._description = pizza.get_description() + \", \" + description\n",
        "        self._cost = pizza.get_cost() + cost\n",
        "\n",
        "    def get_description(self):\n",
        "        return self._description\n",
        "\n",
        "    def get_cost(self):\n",
        "        return self._cost\n",
        "\n",
        "\n",
        "class Et(Malzeme):\n",
        "    def __init__(self, pizza):\n",
        "        cost = 7.00\n",
        "        description = \"Et\"\n",
        "        super().__init__(pizza)\n",
        "        self._description = pizza.get_description() + \", \" + description\n",
        "        self._cost = pizza.get_cost() + cost\n",
        "\n",
        "    def get_description(self):\n",
        "        return self._description\n",
        "\n",
        "    def get_cost(self):\n",
        "        return self._cost\n",
        "\n",
        "class Sogan(Malzeme):\n",
        "    def __init__(self, pizza):\n",
        "        cost = 2.00\n",
        "        description = \"Keçi Peyniri\"\n",
        "        super().__init__(pizza)\n",
        "        self._description = pizza.get_description() + \", \" + description\n",
        "        self._cost = pizza.get_cost() + cost\n",
        "\n",
        "    def get_description(self):\n",
        "        return self._description\n",
        "\n",
        "    def get_cost(self):\n",
        "        return self._cost\n",
        "\n",
        "\n",
        "class Misir(Malzeme):\n",
        "    def __init__(self, pizza):\n",
        "        cost = 2.50\n",
        "        description = \"Et\"\n",
        "        super().__init__(pizza)\n",
        "        self._description = pizza.get_description() + \", \" + description\n",
        "        self._cost = pizza.get_cost() + cost\n",
        "\n",
        "    def get_description(self):\n",
        "        return self._description\n",
        "\n",
        "    def get_cost(self):\n",
        "        return self._cost"
      ],
      "metadata": {
        "id": "qWds1Kpw-iYQ"
      },
      "execution_count": 5,
      "outputs": []
    },
    {
      "cell_type": "markdown",
      "source": [
        "Main fonksiyonu"
      ],
      "metadata": {
        "id": "jb61Lry0_CEg"
      }
    },
    {
      "cell_type": "code",
      "source": [
        "def main():\n",
        "    # Menüyü yazdır\n",
        "    with open(\"Menu.txt\", \"r\") as menu:\n",
        "        print(menu)\n",
        "\n",
        "\n",
        "if __name__ == '__main__':\n",
        "    pizza = None\n",
        "\n",
        "    while not pizza:\n",
        "        try:\n",
        "            base_choice = int(input(\n",
        "                \"Lütfen bir pizza tabanı seçiniz: (1-Klasik, 2-Margarita, 3-TürkPizza, 4-Sade Pizza) \"))\n",
        "            if base_choice == 1:\n",
        "                pizza = Klasik()\n",
        "            elif base_choice == 2:\n",
        "                pizza = Margarita()\n",
        "            elif base_choice == 3:\n",
        "                pizza = Turk()\n",
        "            elif base_choice == 4:\n",
        "                pizza = Sade()\n",
        "            else:\n",
        "                print(\"Lütfen geçerli bir seçim yapınız.\")\n",
        "        except ValueError:\n",
        "            print(\"Lütfen geçerli bir sayı giriniz.\")\n",
        "\n",
        "    while True:\n",
        "        try:\n",
        "            sos_choice = int(input(\n",
        "                \"Lütfen bir sos seçiniz: (11-Zeytin, 12-Mantarlar, 13-Keçi Peyniri, 14-Et, 15-Soğan, 16-Mısır) \"))\n",
        "            if sos_choice == 11:\n",
        "                pizza = Zeytin(pizza)\n",
        "            elif sos_choice == 12:\n",
        "                pizza = Mantar(pizza)\n",
        "            elif sos_choice == 13:\n",
        "                pizza = Keci_Peyniri(pizza)\n",
        "            elif sos_choice == 14:\n",
        "                pizza = Et(pizza)\n",
        "            elif sos_choice == 15:\n",
        "                pizza = Sogan(pizza)\n",
        "            elif sos_choice == 16:\n",
        "                pizza = Misir(pizza)\n",
        "            else:\n",
        "                print(\"Lütfen geçerli bir seçim yapınız.\")\n",
        "            break\n",
        "        except ValueError:\n",
        "            print(\"Lütfen geçerli bir sayı giriniz.\")\n",
        "\n",
        "    aciklama = input(\"Not Ekle: \")\n",
        "      # Sipariş zamanını kaydetme\n",
        "    order_time = datetime.datetime.now()\n",
        "    \n",
        "    print(\"------------------------\")\n",
        "    print(\"Siparişiniz hazır!\")\n",
        "    print(\"Sipariş tarihi:\", order_time.strftime(\"%d-%m-%Y %H:%M\"))\n",
        "    print(\"Sipariş detayı:\", pizza.get_description())\n",
        "    print(\"Toplam fiyat:\", pizza.get_cost(), \"TL\")\n",
        "    print(\"Not Ekle: \", aciklama)\n",
        "    print(\"------------------------\")\n",
        "    print()\n",
        "    # Kullanıcı bilgileri alınır\n",
        "    print(\"------ÖDEME ALANI------\")\n",
        "    name = input(\"İsim: \")\n",
        "    tc_no = input(\"TC Kimlik Numarası: \")\n",
        "    while len(tc_no) != 11:\n",
        "        print(\"Geçersiz TC Kimlik Numarası!\")\n",
        "        tc_no = input(\"TC Kimlik Numarası: \")\n",
        "    cc_no = input(\"Kredi Kartı Numarası: \")\n",
        "    cc_password = input(\"Kredi Kartı Şifresi: \")\n",
        "    while len(cc_password) != 4:\n",
        "        print(\"Geçersiz kredi kartı şifresi! Lütfen 4 haneli şifre giriniz!\")\n",
        "        cc_password = input(\"Kredi Kartı Şifresi: \")\n",
        "    print(\"------------------------\")\n",
        "    print()\n",
        "    print(\"Merhaba \" + name + \" siparişiniz oluşturulmuştur. \")\n",
        "    print()"
      ],
      "metadata": {
        "colab": {
          "base_uri": "https://localhost:8080/"
        },
        "id": "xT5mm0s__CuK",
        "outputId": "adb67302-62d4-4e1e-fc30-475a75dcf096"
      },
      "execution_count": 20,
      "outputs": [
        {
          "output_type": "stream",
          "name": "stdout",
          "text": [
            "Lütfen bir pizza tabanı seçiniz: (1-Klasik, 2-Margarita, 3-TürkPizza, 4-Sade Pizza) 2\n",
            "Lütfen bir sos seçiniz: (11-Zeytin, 12-Mantarlar, 13-Keçi Peyniri, 14-Et, 15-Soğan, 16-Mısır) 12\n",
            "Not Ekle: Boş\n",
            "------------------------\n",
            "Siparişiniz hazır!\n",
            "Sipariş tarihi: 13-03-2023 12:58\n",
            "Sipariş detayı: İnce hamur, ince kenar, domates sosu, mozarella peyniri, Mantar\n",
            "Toplam fiyat: 22.99 TL\n",
            "Not Ekle:  Boş\n",
            "------------------------\n",
            "\n",
            "------ÖDEME ALANI------\n",
            "İsim: B\n",
            "TC Kimlik Numarası: 12312341212\n",
            "Kredi Kartı Numarası: 1234123412341234\n",
            "Kredi Kartı Şifresi: 1234\n",
            "------------------------\n",
            "\n",
            "Merhaba B siparişiniz oluşturulmuştur. \n",
            "\n"
          ]
        }
      ]
    },
    {
      "cell_type": "markdown",
      "source": [
        "Kullanıcı adını, kullanıcı kimliğini, kredi kartı bilgilerini, sipariş açıklamasını, sipariş zamanını ve kredi kartı şifresini tutan bir tablo oluşturma"
      ],
      "metadata": {
        "id": "BrrhWt1WDVhp"
      }
    },
    {
      "cell_type": "code",
      "source": [
        "with open(\"Orders_Database.csv\", mode=\"a\", newline=\"\") as file:\n",
        "        writer = csv.writer(file)\n",
        "        writer.writerow([name, tc_no, cc_no, pizza.get_description(), order_time.strftime(\"%d-%m-%Y %H:%M\"), cc_password])"
      ],
      "metadata": {
        "id": "55-BjchcDWjv"
      },
      "execution_count": 21,
      "outputs": []
    }
  ]
}